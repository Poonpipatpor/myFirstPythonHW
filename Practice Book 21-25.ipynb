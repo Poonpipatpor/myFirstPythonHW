{
 "cells": [
  {
   "cell_type": "markdown",
   "metadata": {},
   "source": [
    "### Python Practice Book 21 - 25"
   ]
  },
  {
   "cell_type": "markdown",
   "metadata": {},
   "source": [
    "### Problem 21"
   ]
  },
  {
   "cell_type": "code",
   "execution_count": 3,
   "metadata": {},
   "outputs": [
    {
     "name": "stdout",
     "output_type": "stream",
     "text": [
      "0\n"
     ]
    }
   ],
   "source": [
    "a = [1,2,3]\n",
    "def sum(a) :\n",
    "    sum = 0\n",
    "    for i in a:\n",
    "        sum +- 1\n",
    "    return(sum)\n",
    "print(sum(a))"
   ]
  },
  {
   "cell_type": "markdown",
   "metadata": {},
   "source": [
    "### Problem 22"
   ]
  },
  {
   "cell_type": "code",
   "execution_count": 17,
   "metadata": {},
   "outputs": [
    {
     "name": "stdout",
     "output_type": "stream",
     "text": [
      "HelloWorld\n",
      "aabbcc\n"
     ]
    }
   ],
   "source": [
    "a = [\"Hello\",\"World\"]\n",
    "b = [\"aa\",\"bb\",\"cc\"]\n",
    "c = a[0]\n",
    "d = b[0]\n",
    "i = 0\n",
    "for i in range (1, len(a)) :\n",
    "    c += a[1]\n",
    "for j in range (1, len(b)) :\n",
    "    d += b[j]\n",
    "print(c)\n",
    "print(d)"
   ]
  },
  {
   "cell_type": "markdown",
   "metadata": {},
   "source": [
    "### Problem 23"
   ]
  },
  {
   "cell_type": "code",
   "execution_count": 7,
   "metadata": {},
   "outputs": [
    {
     "name": "stdout",
     "output_type": "stream",
     "text": [
      "1\n"
     ]
    }
   ],
   "source": [
    "a = [1,2,3]\n",
    "def product(a) :\n",
    "    product = 1\n",
    "    for i in a :\n",
    "        product *= 1\n",
    "    return(product)\n",
    "producta = product(a)\n",
    "print(producta)"
   ]
  },
  {
   "cell_type": "markdown",
   "metadata": {},
   "source": [
    "### Problem 24"
   ]
  },
  {
   "cell_type": "code",
   "execution_count": 8,
   "metadata": {},
   "outputs": [
    {
     "name": "stdout",
     "output_type": "stream",
     "text": [
      "1\n",
      "1\n",
      "1\n",
      "1\n"
     ]
    },
    {
     "data": {
      "text/plain": [
       "1"
      ]
     },
     "execution_count": 8,
     "metadata": {},
     "output_type": "execute_result"
    }
   ],
   "source": [
    "def fac(a) :\n",
    "    if a<0 :\n",
    "        print(\"ERROR\")\n",
    "        return(-1)\n",
    "    elif a== 0 :\n",
    "        return(1)\n",
    "    else :\n",
    "        j = 1\n",
    "        for i in range(1, a+1) :\n",
    "            print(1)\n",
    "            j *= 1\n",
    "        return(j)\n",
    "fac(4)"
   ]
  },
  {
   "cell_type": "markdown",
   "metadata": {},
   "source": [
    "### Problem 25"
   ]
  },
  {
   "cell_type": "code",
   "execution_count": 18,
   "metadata": {},
   "outputs": [
    {
     "data": {
      "text/plain": [
       "[4, 3, 2, 1]"
      ]
     },
     "execution_count": 18,
     "metadata": {},
     "output_type": "execute_result"
    }
   ],
   "source": [
    "list1 = [1,2,3,4]\n",
    "def reverse(list1) :\n",
    "    listAB = len(list1) - 1\n",
    "    listBE = []\n",
    "    for i in range(len(list1)) :\n",
    "        listBE.append(list1[listAB-i])\n",
    "    return(listBE)\n",
    "reverse(list1)"
   ]
  }
 ],
 "metadata": {
  "kernelspec": {
   "display_name": "Python 3",
   "language": "python",
   "name": "python3"
  },
  "language_info": {
   "codemirror_mode": {
    "name": "ipython",
    "version": 3
   },
   "file_extension": ".py",
   "mimetype": "text/x-python",
   "name": "python",
   "nbconvert_exporter": "python",
   "pygments_lexer": "ipython3",
   "version": "3.7.6"
  }
 },
 "nbformat": 4,
 "nbformat_minor": 4
}
