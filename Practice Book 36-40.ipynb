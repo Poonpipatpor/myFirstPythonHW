{
 "cells": [
  {
   "cell_type": "markdown",
   "metadata": {},
   "source": [
    "### Python Practice Book 36-40"
   ]
  },
  {
   "cell_type": "markdown",
   "metadata": {},
   "source": [
    "### Problem 36"
   ]
  },
  {
   "cell_type": "code",
   "execution_count": 1,
   "metadata": {},
   "outputs": [
    {
     "name": "stdout",
     "output_type": "stream",
     "text": [
      "untitled1.txt\n",
      "hello come on thank you bro\n"
     ]
    }
   ],
   "source": [
    "file = open(input())\n",
    "for line in reversed(file.readlines()):\n",
    "    print(line.strip())"
   ]
  },
  {
   "cell_type": "markdown",
   "metadata": {},
   "source": [
    "### Problem 37"
   ]
  },
  {
   "cell_type": "code",
   "execution_count": 2,
   "metadata": {},
   "outputs": [
    {
     "name": "stdout",
     "output_type": "stream",
     "text": [
      "untitled1.txt\n",
      "hello come on thank you bro\n"
     ]
    }
   ],
   "source": [
    "file = open(input())\n",
    "for line in reversed(file.readlines()):\n",
    "    print(line.strip())"
   ]
  },
  {
   "cell_type": "markdown",
   "metadata": {},
   "source": [
    "### Problem 38"
   ]
  },
  {
   "cell_type": "code",
   "execution_count": 3,
   "metadata": {},
   "outputs": [
    {
     "name": "stdout",
     "output_type": "stream",
     "text": [
      "untitled1.txt\n",
      "hello come on thank you bro\n"
     ]
    }
   ],
   "source": [
    "file = open(input())\n",
    "for line in file.readlines()[:10]:\n",
    "    print(line.strip())"
   ]
  },
  {
   "cell_type": "code",
   "execution_count": 4,
   "metadata": {},
   "outputs": [
    {
     "name": "stdout",
     "output_type": "stream",
     "text": [
      "untitled1.txt\n",
      "hello come on thank you bro\n"
     ]
    }
   ],
   "source": [
    "file = open(input())\n",
    "for line in file.readlines()[-10:]:\n",
    "    print(line.strip())"
   ]
  },
  {
   "cell_type": "markdown",
   "metadata": {},
   "source": [
    "### Problem 39"
   ]
  },
  {
   "cell_type": "code",
   "execution_count": 10,
   "metadata": {},
   "outputs": [
    {
     "name": "stdout",
     "output_type": "stream",
     "text": [
      "untitled1.txt come\n",
      "hello come on thank you bro\n",
      "come on start shutdown\n"
     ]
    }
   ],
   "source": [
    "file, text = [i for i in input().split()]\n",
    "for line in open(file):\n",
    "    if (text in line):\n",
    "        print(line.strip())"
   ]
  },
  {
   "cell_type": "markdown",
   "metadata": {},
   "source": [
    "### Problem 40"
   ]
  },
  {
   "cell_type": "code",
   "execution_count": 3,
   "metadata": {},
   "outputs": [
    {
     "name": "stdout",
     "output_type": "stream",
     "text": [
      "untitled1.txt 5\n",
      "hello\n",
      "come\n",
      "on t\n",
      "hank\n",
      "you b\n",
      "ro\n",
      "come\n",
      "on st\n",
      "art s\n",
      "hutdo\n",
      "wn\n"
     ]
    }
   ],
   "source": [
    "file, size = [i for i in input().split()]\n",
    "for line in open(file):\n",
    "    [print(line[i:i + int(size)].strip()) for i in range(0, len(line), int(size))]"
   ]
  }
 ],
 "metadata": {
  "kernelspec": {
   "display_name": "Python 3",
   "language": "python",
   "name": "python3"
  },
  "language_info": {
   "codemirror_mode": {
    "name": "ipython",
    "version": 3
   },
   "file_extension": ".py",
   "mimetype": "text/x-python",
   "name": "python",
   "nbconvert_exporter": "python",
   "pygments_lexer": "ipython3",
   "version": "3.7.6"
  }
 },
 "nbformat": 4,
 "nbformat_minor": 4
}
