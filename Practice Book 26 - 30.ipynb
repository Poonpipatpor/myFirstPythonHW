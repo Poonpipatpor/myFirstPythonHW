{
 "cells": [
  {
   "cell_type": "markdown",
   "metadata": {},
   "source": [
    "### Python Practice Book 26 - 30"
   ]
  },
  {
   "cell_type": "markdown",
   "metadata": {},
   "source": [
    "### Problem 26"
   ]
  },
  {
   "cell_type": "code",
   "execution_count": 7,
   "metadata": {},
   "outputs": [
    {
     "name": "stdout",
     "output_type": "stream",
     "text": [
      "33\n",
      "12\n"
     ]
    }
   ],
   "source": [
    "def Mymin(listA):\n",
    "    min = listA[0]\n",
    "    for i in listA:\n",
    "        if min > i:\n",
    "            min = i\n",
    "        return min\n",
    "\n",
    "def Mymax(listA):\n",
    "    max = listA[0]\n",
    "    for i in listA:\n",
    "        if max < i:\n",
    "            max = i\n",
    "    return max\n",
    "print(Mymax([12,8,5,22,33,11,25]))\n",
    "print(Mymin([12,8,5,22,33,11,25]))"
   ]
  },
  {
   "cell_type": "markdown",
   "metadata": {},
   "source": [
    "### Problem 27"
   ]
  },
  {
   "cell_type": "code",
   "execution_count": 20,
   "metadata": {},
   "outputs": [
    {
     "data": {
      "text/plain": [
       "[1, 3, 6, 10]"
      ]
     },
     "execution_count": 20,
     "metadata": {},
     "output_type": "execute_result"
    }
   ],
   "source": [
    "def cumulative_sum(ListA) :\n",
    "    newlist = [ListA[0]]\n",
    "    for i in range(1,len(ListA)):\n",
    "        newlist += [ListA[i]+newlist[i-1]]\n",
    "    return newlist\n",
    "\n",
    "cumulative_sum([1,2,3,4,])"
   ]
  },
  {
   "cell_type": "code",
   "execution_count": 21,
   "metadata": {},
   "outputs": [
    {
     "data": {
      "text/plain": [
       "[4, 7, 9, 10]"
      ]
     },
     "execution_count": 21,
     "metadata": {},
     "output_type": "execute_result"
    }
   ],
   "source": [
    "cumulative_sum([4,3,2,1])"
   ]
  },
  {
   "cell_type": "markdown",
   "metadata": {},
   "source": [
    "### Problem 28"
   ]
  },
  {
   "cell_type": "code",
   "execution_count": 23,
   "metadata": {},
   "outputs": [
    {
     "data": {
      "text/plain": [
       "[1, 2, 6, 24]"
      ]
     },
     "execution_count": 23,
     "metadata": {},
     "output_type": "execute_result"
    }
   ],
   "source": [
    "def cumulative_product(ListA):\n",
    "    newlist = [ListA[0]]\n",
    "    for i in range(1,len(ListA)) :\n",
    "        newlist += [ListA[i]*newlist[i-1]]\n",
    "    return newlist\n",
    "\n",
    "cumulative_product([1,2,3,4,])"
   ]
  },
  {
   "cell_type": "markdown",
   "metadata": {},
   "source": [
    "### Problem 29"
   ]
  },
  {
   "cell_type": "code",
   "execution_count": 1,
   "metadata": {},
   "outputs": [],
   "source": [
    "def unqiue(listIn) :\n",
    "    UnqValue = listIn[0]\n",
    "    UnqList = []\n",
    "    UnqList.append(UnqValue)\n",
    "    for i in range(1,len(listIn)) :\n",
    "        uniqueCheck = 0\n",
    "        UnqValue = listIn[i]\n",
    "        for j in UnqList :\n",
    "            if j == UnqValue :\n",
    "                uniqueCheck = 1\n",
    "        if uniqueCheck == 0 :\n",
    "            UnqList.append(UnqValue)\n",
    "    return UnqList"
   ]
  },
  {
   "cell_type": "code",
   "execution_count": 2,
   "metadata": {},
   "outputs": [
    {
     "data": {
      "text/plain": [
       "[1, 2, 3, 5]"
      ]
     },
     "execution_count": 2,
     "metadata": {},
     "output_type": "execute_result"
    }
   ],
   "source": [
    "unqiue([1,2,1,3,2,5])"
   ]
  },
  {
   "cell_type": "markdown",
   "metadata": {},
   "source": [
    "### Problem 30"
   ]
  },
  {
   "cell_type": "code",
   "execution_count": 33,
   "metadata": {},
   "outputs": [],
   "source": [
    "def dups(arr):\n",
    "    check = []\n",
    "    dup = set()\n",
    "    for i in arr:\n",
    "        if i in check:\n",
    "            dup.add(i)\n",
    "        else:\n",
    "            check.append(i)\n",
    "    return list(dup)"
   ]
  },
  {
   "cell_type": "code",
   "execution_count": 34,
   "metadata": {},
   "outputs": [
    {
     "data": {
      "text/plain": [
       "[1, 2]"
      ]
     },
     "execution_count": 34,
     "metadata": {},
     "output_type": "execute_result"
    }
   ],
   "source": [
    "dups([1,2,1,3,2,5])"
   ]
  }
 ],
 "metadata": {
  "kernelspec": {
   "display_name": "Python 3",
   "language": "python",
   "name": "python3"
  },
  "language_info": {
   "codemirror_mode": {
    "name": "ipython",
    "version": 3
   },
   "file_extension": ".py",
   "mimetype": "text/x-python",
   "name": "python",
   "nbconvert_exporter": "python",
   "pygments_lexer": "ipython3",
   "version": "3.7.6"
  }
 },
 "nbformat": 4,
 "nbformat_minor": 4
}
